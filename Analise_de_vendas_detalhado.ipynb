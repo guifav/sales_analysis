{
  "nbformat": 4,
  "nbformat_minor": 0,
  "metadata": {
    "colab": {
      "provenance": [],
      "collapsed_sections": [
        "YC5jndGwAnwW"
      ],
      "authorship_tag": "ABX9TyNYCHdPcJojdz1/3Bgu/G1p",
      "include_colab_link": true
    },
    "kernelspec": {
      "name": "python3",
      "display_name": "Python 3"
    },
    "language_info": {
      "name": "python"
    }
  },
  "cells": [
    {
      "cell_type": "markdown",
      "metadata": {
        "id": "view-in-github",
        "colab_type": "text"
      },
      "source": [
        "<a href=\"https://colab.research.google.com/github/guifav/sales_analysis/blob/main/Analise_de_vendas_detalhado.ipynb\" target=\"_parent\"><img src=\"https://colab.research.google.com/assets/colab-badge.svg\" alt=\"Open In Colab\"/></a>"
      ]
    },
    {
      "cell_type": "markdown",
      "source": [
        "# Início da análise"
      ],
      "metadata": {
        "id": "K48GMwiD_63V"
      }
    },
    {
      "cell_type": "markdown",
      "source": [
        "### **Este tutorial foi elaborado por Guilherme Favaron. Para melhor compreensão, acesse: ** https://www.guilhermefavaron.com.br/post/tutorial-analise-de-dados-colab-python-ia"
      ],
      "metadata": {
        "id": "yMc1hXVOkVRo"
      }
    },
    {
      "cell_type": "markdown",
      "source": [
        "## Carregando Bibliotecas Necessárias"
      ],
      "metadata": {
        "id": "LoFMTV0AD6DX"
      }
    },
    {
      "cell_type": "code",
      "source": [
        "import pandas as pd\n",
        "import matplotlib.pyplot as plt\n",
        "import seaborn as sns\n",
        "from datetime import datetime"
      ],
      "metadata": {
        "id": "NRBrZSzdAIlJ"
      },
      "execution_count": null,
      "outputs": []
    },
    {
      "cell_type": "markdown",
      "source": [
        "## Carregando os dados"
      ],
      "metadata": {
        "id": "_x0Ge9ThABPb"
      }
    },
    {
      "cell_type": "code",
      "source": [
        "df = pd.read_csv('vendas_farmaceuticas.csv')"
      ],
      "metadata": {
        "id": "SIqDmdMYALnR"
      },
      "execution_count": null,
      "outputs": []
    },
    {
      "cell_type": "markdown",
      "source": [
        "## Convertendo a coluna 'Data' para o tipo datetime"
      ],
      "metadata": {
        "id": "64732IdsAN38"
      }
    },
    {
      "cell_type": "code",
      "source": [
        "df['Data'] = pd.to_datetime(df['Data'])"
      ],
      "metadata": {
        "id": "6trUVITJASc_"
      },
      "execution_count": null,
      "outputs": []
    },
    {
      "cell_type": "markdown",
      "source": [
        "## Convertendo as colunas de preço e custo para float"
      ],
      "metadata": {
        "id": "xXkAQjP4AUz5"
      }
    },
    {
      "cell_type": "code",
      "source": [
        "df['Preço Unitário'] = df['Preço Unitário'].str.replace(',', '.').astype(float)\n",
        "df['Custo Unitário'] = df['Custo Unitário'].str.replace(',', '.').astype(float)"
      ],
      "metadata": {
        "id": "Sb3aU8f6Al7l"
      },
      "execution_count": null,
      "outputs": []
    },
    {
      "cell_type": "markdown",
      "source": [
        "## Calculando o lucro"
      ],
      "metadata": {
        "id": "YC5jndGwAnwW"
      }
    },
    {
      "cell_type": "code",
      "source": [
        "df['Lucro'] = (df['Preço Unitário'] - df['Custo Unitário']) * df['Unidades Vendidas']"
      ],
      "metadata": {
        "id": "mq8uEgR2AsUO"
      },
      "execution_count": null,
      "outputs": []
    },
    {
      "cell_type": "markdown",
      "source": [
        "## Análise detalhada"
      ],
      "metadata": {
        "id": "mIfGP64QEORt"
      }
    },
    {
      "cell_type": "markdown",
      "source": [
        "### 1. Visão geral dos dados"
      ],
      "metadata": {
        "id": "mS8EPBNuA08Z"
      }
    },
    {
      "cell_type": "code",
      "source": [
        "print(df.describe())"
      ],
      "metadata": {
        "id": "t9KLvpOOA6PZ"
      },
      "execution_count": null,
      "outputs": []
    },
    {
      "cell_type": "markdown",
      "source": [
        "### 2. Top 10 produtos mais vendidos"
      ],
      "metadata": {
        "id": "ktbDiDz3A_yF"
      }
    },
    {
      "cell_type": "code",
      "source": [
        "top_produtos = df.groupby('Produto')['Unidades Vendidas'].sum().sort_values(ascending=False).head(10)\n",
        "plt.figure(figsize=(12, 6))\n",
        "top_produtos.plot(kind='bar')\n",
        "plt.title('Top 10 Produtos Mais Vendidos')\n",
        "plt.xlabel('Produto')\n",
        "plt.ylabel('Unidades Vendidas')\n",
        "plt.xticks(rotation=45, ha='right')\n",
        "plt.tight_layout()\n",
        "plt.show()"
      ],
      "metadata": {
        "id": "eCENQFrUBAgm"
      },
      "execution_count": null,
      "outputs": []
    },
    {
      "cell_type": "markdown",
      "source": [
        "### 3. Vendas por região"
      ],
      "metadata": {
        "id": "OEOcM_KJB_KS"
      }
    },
    {
      "cell_type": "code",
      "source": [
        "vendas_por_regiao = df.groupby('Região')['Lucro'].sum().sort_values(ascending=False)\n",
        "plt.figure(figsize=(10, 6))\n",
        "vendas_por_regiao.plot(kind='pie', autopct='%1.1f%%')\n",
        "plt.title('Distribuição de Lucro por Região')\n",
        "plt.ylabel('')\n",
        "plt.show()"
      ],
      "metadata": {
        "id": "U7L0w1q9CAhd"
      },
      "execution_count": null,
      "outputs": []
    },
    {
      "cell_type": "markdown",
      "source": [
        "### 4. Tendência de vendas ao longo do tempo\n",
        "\n"
      ],
      "metadata": {
        "id": "30kqhj54CEtl"
      }
    },
    {
      "cell_type": "code",
      "source": [
        "df_diario = df.groupby('Data')['Lucro'].sum().reset_index()\n",
        "plt.figure(figsize=(12, 6))\n",
        "plt.plot(df_diario['Data'], df_diario['Lucro'])\n",
        "plt.title('Tendência de Lucro Diário')\n",
        "plt.xlabel('Data')\n",
        "plt.ylabel('Lucro')\n",
        "plt.xticks(rotation=45)\n",
        "plt.tight_layout()\n",
        "plt.show()"
      ],
      "metadata": {
        "id": "BKc4mtjsCI1Z"
      },
      "execution_count": null,
      "outputs": []
    },
    {
      "cell_type": "markdown",
      "source": [
        "### 5. Performance por categoria de produto"
      ],
      "metadata": {
        "id": "WnS0DLx8CJ2O"
      }
    },
    {
      "cell_type": "code",
      "source": [
        "categoria_performance = df.groupby('Categoria')[['Unidades Vendidas', 'Lucro']].sum().sort_values('Lucro', ascending=False)\n",
        "plt.figure(figsize=(12, 6))\n",
        "sns.scatterplot(data=categoria_performance, x='Unidades Vendidas', y='Lucro', s=100)\n",
        "for i, txt in enumerate(categoria_performance.index):\n",
        "    plt.annotate(txt, (categoria_performance['Unidades Vendidas'].iloc[i], categoria_performance['Lucro'].iloc[i]))\n",
        "plt.title('Performance por Categoria de Produto')\n",
        "plt.xlabel('Unidades Vendidas')\n",
        "plt.ylabel('Lucro Total')\n",
        "plt.tight_layout()\n",
        "plt.show()"
      ],
      "metadata": {
        "id": "adKlJ5DSCL3m"
      },
      "execution_count": null,
      "outputs": []
    },
    {
      "cell_type": "markdown",
      "source": [
        "### 6. Análise de canal de vendas"
      ],
      "metadata": {
        "id": "41NeLWyMCX1w"
      }
    },
    {
      "cell_type": "code",
      "source": [
        "canal_vendas = df.groupby('Canal de Venda')['Lucro'].sum().sort_values(ascending=False)\n",
        "plt.figure(figsize=(10, 6))\n",
        "canal_vendas.plot(kind='bar')\n",
        "plt.title('Lucro por Canal de Venda')\n",
        "plt.xlabel('Canal de Venda')\n",
        "plt.ylabel('Lucro Total')\n",
        "plt.xticks(rotation=0)\n",
        "plt.tight_layout()\n",
        "plt.show()"
      ],
      "metadata": {
        "id": "MaQr00lqCYWP"
      },
      "execution_count": null,
      "outputs": []
    },
    {
      "cell_type": "markdown",
      "source": [
        "### 7. Produtos mais lucrativos"
      ],
      "metadata": {
        "id": "DpW_K1vECY0M"
      }
    },
    {
      "cell_type": "code",
      "source": [
        "produtos_lucrativos = df.groupby('Produto')['Lucro'].sum().sort_values(ascending=False).head(10)\n",
        "plt.figure(figsize=(12, 6))\n",
        "produtos_lucrativos.plot(kind='bar')\n",
        "plt.title('Top 10 Produtos Mais Lucrativos')\n",
        "plt.xlabel('Produto')\n",
        "plt.ylabel('Lucro Total')\n",
        "plt.xticks(rotation=45, ha='right')\n",
        "plt.tight_layout()\n",
        "plt.show()"
      ],
      "metadata": {
        "id": "DaJh71fJCZRI"
      },
      "execution_count": null,
      "outputs": []
    },
    {
      "cell_type": "markdown",
      "source": [
        "### 8. Correlação entre preço e unidades vendidas"
      ],
      "metadata": {
        "id": "f4Z_1zTbCZtb"
      }
    },
    {
      "cell_type": "code",
      "source": [
        "plt.figure(figsize=(10, 6))\n",
        "sns.scatterplot(data=df, x='Preço Unitário', y='Unidades Vendidas')\n",
        "plt.title('Relação entre Preço Unitário e Unidades Vendidas')\n",
        "plt.xlabel('Preço Unitário')\n",
        "plt.ylabel('Unidades Vendidas')\n",
        "plt.tight_layout()\n",
        "plt.show()"
      ],
      "metadata": {
        "id": "C6s3J5c5CaDb"
      },
      "execution_count": null,
      "outputs": []
    },
    {
      "cell_type": "markdown",
      "source": [
        "### 9. Análise de margem de lucro"
      ],
      "metadata": {
        "id": "sDVVSspoCnX7"
      }
    },
    {
      "cell_type": "code",
      "source": [
        "df['Margem de Lucro'] = (df['Lucro'] / (df['Preço Unitário'] * df['Unidades Vendidas'])) * 100\n",
        "margem_media = df.groupby('Produto')['Margem de Lucro'].mean().sort_values(ascending=False).head(10)\n",
        "plt.figure(figsize=(12, 6))\n",
        "margem_media.plot(kind='bar')\n",
        "plt.title('Top 10 Produtos com Maior Margem de Lucro Média')\n",
        "plt.xlabel('Produto')\n",
        "plt.ylabel('Margem de Lucro Média (%)')\n",
        "plt.xticks(rotation=45, ha='right')\n",
        "plt.tight_layout()\n",
        "plt.show()"
      ],
      "metadata": {
        "id": "0VxsoZpwCoA-"
      },
      "execution_count": null,
      "outputs": []
    },
    {
      "cell_type": "markdown",
      "source": [
        "### 10. Resumo estatístico"
      ],
      "metadata": {
        "id": "vXkoRSfACrWI"
      }
    },
    {
      "cell_type": "code",
      "source": [
        "print(\"\\nResumo Estatístico:\")\n",
        "print(f\"Total de Vendas: R$ {(df['Preço Unitário'] * df['Unidades Vendidas']).sum():.2f}\")\n",
        "print(f\"Total de Custos: R$ {(df['Custo Unitário'] * df['Unidades Vendidas']).sum():.2f}\")\n",
        "print(f\"Lucro Total: R$ {df['Lucro'].sum():.2f}\")\n",
        "print(f\"Margem de Lucro Média: {df['Margem de Lucro'].mean():.2f}%\")\n",
        "print(f\"Produto Mais Vendido: {df.groupby('Produto')['Unidades Vendidas'].sum().idxmax()}\")\n",
        "print(f\"Produto Mais Lucrativo: {df.groupby('Produto')['Lucro'].sum().idxmax()}\")\n",
        "print(f\"Região Mais Lucrativa: {df.groupby('Região')['Lucro'].sum().idxmax()}\")\n",
        "print(f\"Canal de Venda Mais Lucrativo: {df.groupby('Canal de Venda')['Lucro'].sum().idxmax()}\")"
      ],
      "metadata": {
        "id": "XU1Opo0oCr5a"
      },
      "execution_count": null,
      "outputs": []
    }
  ]
}